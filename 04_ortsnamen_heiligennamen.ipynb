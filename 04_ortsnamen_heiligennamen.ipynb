{
 "cells": [
  {
   "cell_type": "markdown",
   "metadata": {},
   "source": [
    "# Daten herunterladen:\n",
    "\n",
    "https://drive.google.com/open?id=1kCYv7qOFqk_hldi7rKaBkZovVTyndVfP oder\n",
    "\n",
    "https://shop.swisstopo.admin.ch/de/products/landscape/names3D\n",
    "\n",
    "swissNAMES3D_LV95\n",
    "\n",
    "shp_LV95_LN02\n",
    "\n",
    "Benötigte Dateien:\n",
    "\n",
    "swissNAMES3D_PKT.dbf\n",
    "\n",
    "swissNAMES3D_PKT.prj\n",
    "\n",
    "swissNAMES3D_PKT.shp\n",
    "\n",
    "swissNAMES3D_PKT.shx"
   ]
  },
  {
   "cell_type": "code",
   "execution_count": 1,
   "metadata": {},
   "outputs": [],
   "source": [
    "import pandas as pd\n",
    "import geopandas as gpd\n",
    "from shapely.geometry import Point, LineString, Polygon\n",
    "%matplotlib inline\n",
    "import re"
   ]
  },
  {
   "cell_type": "code",
   "execution_count": 2,
   "metadata": {
    "scrolled": true
   },
   "outputs": [],
   "source": [
    "# Daten einlesen\n",
    "gdf = gpd.read_file('shp_LV95_LN02/swissNAMES3D_PKT.shx')\n"
   ]
  },
  {
   "cell_type": "code",
   "execution_count": 3,
   "metadata": {},
   "outputs": [
    {
     "data": {
      "text/html": [
       "<div>\n",
       "<style scoped>\n",
       "    .dataframe tbody tr th:only-of-type {\n",
       "        vertical-align: middle;\n",
       "    }\n",
       "\n",
       "    .dataframe tbody tr th {\n",
       "        vertical-align: top;\n",
       "    }\n",
       "\n",
       "    .dataframe thead th {\n",
       "        text-align: right;\n",
       "    }\n",
       "</style>\n",
       "<table border=\"1\" class=\"dataframe\">\n",
       "  <thead>\n",
       "    <tr style=\"text-align: right;\">\n",
       "      <th></th>\n",
       "      <th>UUID</th>\n",
       "      <th>OBJEKTART</th>\n",
       "      <th>OBJEKTKLAS</th>\n",
       "      <th>HOEHE</th>\n",
       "      <th>GEBAEUDENU</th>\n",
       "      <th>NAME_UUID</th>\n",
       "      <th>NAME</th>\n",
       "      <th>STATUS</th>\n",
       "      <th>SPRACHCODE</th>\n",
       "      <th>NAMEN_TYP</th>\n",
       "      <th>NAMENGRUPP</th>\n",
       "      <th>geometry</th>\n",
       "    </tr>\n",
       "  </thead>\n",
       "  <tbody>\n",
       "    <tr>\n",
       "      <th>0</th>\n",
       "      <td>{2FF7E3F1-6BAA-4981-A172-A459E01982E8}</td>\n",
       "      <td>Ausfahrt</td>\n",
       "      <td>TLM_AUS_EINFAHRT</td>\n",
       "      <td>-999998.0</td>\n",
       "      <td>k_W</td>\n",
       "      <td>{0642FC92-2FC6-4A4D-AE2B-9115F0D0BA2B}</td>\n",
       "      <td>Kleinandelfingen</td>\n",
       "      <td>offiziell</td>\n",
       "      <td>Hochdeutsch inkl. Lokalsprachen</td>\n",
       "      <td>Einfacher Name</td>\n",
       "      <td>None</td>\n",
       "      <td>POINT Z (2694037.021 1273364.505 389.545)</td>\n",
       "    </tr>\n",
       "    <tr>\n",
       "      <th>1</th>\n",
       "      <td>{AA4D0B0F-CA43-4B91-BFC3-32B9F3E2FEDB}</td>\n",
       "      <td>Ausfahrt</td>\n",
       "      <td>TLM_AUS_EINFAHRT</td>\n",
       "      <td>-999998.0</td>\n",
       "      <td>k_W</td>\n",
       "      <td>{0642FC92-2FC6-4A4D-AE2B-9115F0D0BA2B}</td>\n",
       "      <td>Kleinandelfingen</td>\n",
       "      <td>offiziell</td>\n",
       "      <td>Hochdeutsch inkl. Lokalsprachen</td>\n",
       "      <td>Einfacher Name</td>\n",
       "      <td>None</td>\n",
       "      <td>POINT Z (2694225.446 1272960.581 386.701)</td>\n",
       "    </tr>\n",
       "    <tr>\n",
       "      <th>2</th>\n",
       "      <td>{358C0BD3-3DF7-4A49-B446-F156A2D3D865}</td>\n",
       "      <td>Ausfahrt</td>\n",
       "      <td>TLM_AUS_EINFAHRT</td>\n",
       "      <td>-999998.0</td>\n",
       "      <td>k_W</td>\n",
       "      <td>{D723A8F6-7E97-41D0-B042-0935835A017A}</td>\n",
       "      <td>Winterthur-Töss</td>\n",
       "      <td>offiziell</td>\n",
       "      <td>Hochdeutsch inkl. Lokalsprachen</td>\n",
       "      <td>Einfacher Name</td>\n",
       "      <td>None</td>\n",
       "      <td>POINT Z (2695211.064 1260578.998 436.378)</td>\n",
       "    </tr>\n",
       "    <tr>\n",
       "      <th>3</th>\n",
       "      <td>{C4D61C3F-4A22-4474-9FD8-9532845AFFF4}</td>\n",
       "      <td>Ausfahrt</td>\n",
       "      <td>TLM_AUS_EINFAHRT</td>\n",
       "      <td>-999998.0</td>\n",
       "      <td>k_W</td>\n",
       "      <td>{4EF0E5A1-1AE2-4793-8073-3CA1AF521FCE}</td>\n",
       "      <td>Wülflingen</td>\n",
       "      <td>offiziell</td>\n",
       "      <td>Hochdeutsch inkl. Lokalsprachen</td>\n",
       "      <td>Einfacher Name</td>\n",
       "      <td>None</td>\n",
       "      <td>POINT Z (2694252.651 1263268.638 412.791)</td>\n",
       "    </tr>\n",
       "    <tr>\n",
       "      <th>4</th>\n",
       "      <td>{082BA123-C0B5-47E3-9D86-8AC0DFD1025F}</td>\n",
       "      <td>Ausfahrt</td>\n",
       "      <td>TLM_AUS_EINFAHRT</td>\n",
       "      <td>-999998.0</td>\n",
       "      <td>k_W</td>\n",
       "      <td>{4EF0E5A1-1AE2-4793-8073-3CA1AF521FCE}</td>\n",
       "      <td>Wülflingen</td>\n",
       "      <td>offiziell</td>\n",
       "      <td>Hochdeutsch inkl. Lokalsprachen</td>\n",
       "      <td>Einfacher Name</td>\n",
       "      <td>None</td>\n",
       "      <td>POINT Z (2694494.016 1263591.783 427.094)</td>\n",
       "    </tr>\n",
       "  </tbody>\n",
       "</table>\n",
       "</div>"
      ],
      "text/plain": [
       "                                     UUID OBJEKTART        OBJEKTKLAS  \\\n",
       "0  {2FF7E3F1-6BAA-4981-A172-A459E01982E8}  Ausfahrt  TLM_AUS_EINFAHRT   \n",
       "1  {AA4D0B0F-CA43-4B91-BFC3-32B9F3E2FEDB}  Ausfahrt  TLM_AUS_EINFAHRT   \n",
       "2  {358C0BD3-3DF7-4A49-B446-F156A2D3D865}  Ausfahrt  TLM_AUS_EINFAHRT   \n",
       "3  {C4D61C3F-4A22-4474-9FD8-9532845AFFF4}  Ausfahrt  TLM_AUS_EINFAHRT   \n",
       "4  {082BA123-C0B5-47E3-9D86-8AC0DFD1025F}  Ausfahrt  TLM_AUS_EINFAHRT   \n",
       "\n",
       "      HOEHE GEBAEUDENU                               NAME_UUID  \\\n",
       "0 -999998.0        k_W  {0642FC92-2FC6-4A4D-AE2B-9115F0D0BA2B}   \n",
       "1 -999998.0        k_W  {0642FC92-2FC6-4A4D-AE2B-9115F0D0BA2B}   \n",
       "2 -999998.0        k_W  {D723A8F6-7E97-41D0-B042-0935835A017A}   \n",
       "3 -999998.0        k_W  {4EF0E5A1-1AE2-4793-8073-3CA1AF521FCE}   \n",
       "4 -999998.0        k_W  {4EF0E5A1-1AE2-4793-8073-3CA1AF521FCE}   \n",
       "\n",
       "               NAME     STATUS                       SPRACHCODE  \\\n",
       "0  Kleinandelfingen  offiziell  Hochdeutsch inkl. Lokalsprachen   \n",
       "1  Kleinandelfingen  offiziell  Hochdeutsch inkl. Lokalsprachen   \n",
       "2   Winterthur-Töss  offiziell  Hochdeutsch inkl. Lokalsprachen   \n",
       "3        Wülflingen  offiziell  Hochdeutsch inkl. Lokalsprachen   \n",
       "4        Wülflingen  offiziell  Hochdeutsch inkl. Lokalsprachen   \n",
       "\n",
       "        NAMEN_TYP NAMENGRUPP                                   geometry  \n",
       "0  Einfacher Name       None  POINT Z (2694037.021 1273364.505 389.545)  \n",
       "1  Einfacher Name       None  POINT Z (2694225.446 1272960.581 386.701)  \n",
       "2  Einfacher Name       None  POINT Z (2695211.064 1260578.998 436.378)  \n",
       "3  Einfacher Name       None  POINT Z (2694252.651 1263268.638 412.791)  \n",
       "4  Einfacher Name       None  POINT Z (2694494.016 1263591.783 427.094)  "
      ]
     },
     "execution_count": 3,
     "metadata": {},
     "output_type": "execute_result"
    }
   ],
   "source": [
    "gdf.head(5)"
   ]
  },
  {
   "cell_type": "code",
   "execution_count": 4,
   "metadata": {},
   "outputs": [
    {
     "data": {
      "text/plain": [
       "(308200, 12)"
      ]
     },
     "execution_count": 4,
     "metadata": {},
     "output_type": "execute_result"
    }
   ],
   "source": [
    "gdf.shape"
   ]
  },
  {
   "cell_type": "code",
   "execution_count": 5,
   "metadata": {},
   "outputs": [
    {
     "data": {
      "text/plain": [
       "array(['Ausfahrt', 'Verzweigung', 'Ein- und Ausfahrt', 'Zollamt 24h 24h',\n",
       "       'Zollamt 24h eingeschraenkt', 'Zollamt eingeschraenkt',\n",
       "       'Verladestation', 'Haltestelle Schiff', 'Haltestelle Bahn',\n",
       "       'Uebrige Bahnen', 'Haltestelle Bus', 'Flurname swisstopo',\n",
       "       'Lokalname swisstopo', 'Pass', 'Gipfel', 'Hauptgipfel',\n",
       "       'Alpiner Gipfel', 'Huegel', 'Haupthuegel', 'Felskopf',\n",
       "       'Strassenpass', 'Quelle', 'Grotte, Hoehle', 'Wasserfall',\n",
       "       'Denkmal', 'Brunnen', 'Bildstock', 'Aussichtspunkt',\n",
       "       'Landesgrenzstein', 'Erratischer Block', 'Felsblock', 'Gebaeude',\n",
       "       'Offenes Gebaeude', 'Sakrales Gebaeude', 'Kapelle', 'Turm'],\n",
       "      dtype=object)"
      ]
     },
     "execution_count": 5,
     "metadata": {},
     "output_type": "execute_result"
    }
   ],
   "source": [
    "gdf['OBJEKTART'].unique()"
   ]
  },
  {
   "cell_type": "code",
   "execution_count": null,
   "metadata": {},
   "outputs": [],
   "source": [
    "#gdf['OBJEKTKLAS'].unique()"
   ]
  },
  {
   "cell_type": "code",
   "execution_count": null,
   "metadata": {},
   "outputs": [],
   "source": [
    "#gdf['GEBAEUDENU'].unique()                 ## k_W  = kein Wert"
   ]
  },
  {
   "cell_type": "code",
   "execution_count": null,
   "metadata": {},
   "outputs": [],
   "source": [
    "## 123 Enträge in allen Sprachen\n",
    "#gdf[gdf['OBJEKTART'] == 'Sakrales Gebaeude']"
   ]
  },
  {
   "cell_type": "markdown",
   "metadata": {},
   "source": [
    "# Daten eingrenzen  \n",
    "Spalten, Spache Hochdeutsch"
   ]
  },
  {
   "cell_type": "code",
   "execution_count": 32,
   "metadata": {},
   "outputs": [
    {
     "data": {
      "text/plain": [
       "(308200, 3)"
      ]
     },
     "execution_count": 32,
     "metadata": {},
     "output_type": "execute_result"
    }
   ],
   "source": [
    "## Nur benötigte Spalten\n",
    "gdf_4spaltig = gdf[['OBJEKTART', 'NAME', 'SPRACHCODE', 'geometry']]\n",
    "\n",
    "## Spalte Sprachcode als Index\n",
    "gdf_4spaltig.set_index('SPRACHCODE', inplace=True)\n",
    "\n",
    "gdf_4spaltig.shape"
   ]
  },
  {
   "cell_type": "code",
   "execution_count": 33,
   "metadata": {
    "scrolled": false
   },
   "outputs": [],
   "source": [
    "## Nur Zeilen Hochdeutsch\n",
    "gdf_Hochdeutsch = gdf_4spaltig.loc['Hochdeutsch inkl. Lokalsprachen']"
   ]
  },
  {
   "cell_type": "code",
   "execution_count": 34,
   "metadata": {},
   "outputs": [
    {
     "data": {
      "text/plain": [
       "(206580, 3)"
      ]
     },
     "execution_count": 34,
     "metadata": {},
     "output_type": "execute_result"
    }
   ],
   "source": [
    "gdf_Hochdeutsch.shape"
   ]
  },
  {
   "cell_type": "code",
   "execution_count": 35,
   "metadata": {},
   "outputs": [],
   "source": [
    "## Spalte OBJEKTART als Index\n",
    "gdf_Hochdeutsch.set_index('OBJEKTART', inplace=True)"
   ]
  },
  {
   "cell_type": "code",
   "execution_count": 36,
   "metadata": {},
   "outputs": [],
   "source": [
    "gdf_3spaltig = gdf_Hochdeutsch.copy()"
   ]
  },
  {
   "cell_type": "code",
   "execution_count": 37,
   "metadata": {},
   "outputs": [
    {
     "data": {
      "text/html": [
       "<div>\n",
       "<style scoped>\n",
       "    .dataframe tbody tr th:only-of-type {\n",
       "        vertical-align: middle;\n",
       "    }\n",
       "\n",
       "    .dataframe tbody tr th {\n",
       "        vertical-align: top;\n",
       "    }\n",
       "\n",
       "    .dataframe thead th {\n",
       "        text-align: right;\n",
       "    }\n",
       "</style>\n",
       "<table border=\"1\" class=\"dataframe\">\n",
       "  <thead>\n",
       "    <tr style=\"text-align: right;\">\n",
       "      <th></th>\n",
       "      <th>NAME</th>\n",
       "      <th>geometry</th>\n",
       "    </tr>\n",
       "    <tr>\n",
       "      <th>OBJEKTART</th>\n",
       "      <th></th>\n",
       "      <th></th>\n",
       "    </tr>\n",
       "  </thead>\n",
       "  <tbody>\n",
       "    <tr>\n",
       "      <th>Ausfahrt</th>\n",
       "      <td>Kleinandelfingen</td>\n",
       "      <td>POINT Z (2694037.021 1273364.505 389.545)</td>\n",
       "    </tr>\n",
       "    <tr>\n",
       "      <th>Ausfahrt</th>\n",
       "      <td>Kleinandelfingen</td>\n",
       "      <td>POINT Z (2694225.446 1272960.581 386.701)</td>\n",
       "    </tr>\n",
       "    <tr>\n",
       "      <th>Ausfahrt</th>\n",
       "      <td>Winterthur-Töss</td>\n",
       "      <td>POINT Z (2695211.064 1260578.998 436.378)</td>\n",
       "    </tr>\n",
       "    <tr>\n",
       "      <th>Ausfahrt</th>\n",
       "      <td>Wülflingen</td>\n",
       "      <td>POINT Z (2694252.651 1263268.638 412.791)</td>\n",
       "    </tr>\n",
       "    <tr>\n",
       "      <th>Ausfahrt</th>\n",
       "      <td>Wülflingen</td>\n",
       "      <td>POINT Z (2694494.016 1263591.783 427.094)</td>\n",
       "    </tr>\n",
       "    <tr>\n",
       "      <th>Verzweigung</th>\n",
       "      <td>Winterthur-Nord</td>\n",
       "      <td>POINT Z (2694852.543 1264108.073 438.363)</td>\n",
       "    </tr>\n",
       "    <tr>\n",
       "      <th>Verzweigung</th>\n",
       "      <td>Winterthur-Nord</td>\n",
       "      <td>POINT Z (2695091.488 1264580.048 432.101)</td>\n",
       "    </tr>\n",
       "    <tr>\n",
       "      <th>Verzweigung</th>\n",
       "      <td>Winterthur-Nord</td>\n",
       "      <td>POINT Z (2695409.576 1264572.464 442.853)</td>\n",
       "    </tr>\n",
       "    <tr>\n",
       "      <th>Ausfahrt</th>\n",
       "      <td>Winterthur-Ohringen</td>\n",
       "      <td>POINT Z (2695995.191 1264426.583 458.974)</td>\n",
       "    </tr>\n",
       "    <tr>\n",
       "      <th>Ausfahrt</th>\n",
       "      <td>Winterthur-Ohringen</td>\n",
       "      <td>POINT Z (2696459.446 1264408.235 472.927)</td>\n",
       "    </tr>\n",
       "  </tbody>\n",
       "</table>\n",
       "</div>"
      ],
      "text/plain": [
       "                            NAME                                   geometry\n",
       "OBJEKTART                                                                  \n",
       "Ausfahrt        Kleinandelfingen  POINT Z (2694037.021 1273364.505 389.545)\n",
       "Ausfahrt        Kleinandelfingen  POINT Z (2694225.446 1272960.581 386.701)\n",
       "Ausfahrt         Winterthur-Töss  POINT Z (2695211.064 1260578.998 436.378)\n",
       "Ausfahrt              Wülflingen  POINT Z (2694252.651 1263268.638 412.791)\n",
       "Ausfahrt              Wülflingen  POINT Z (2694494.016 1263591.783 427.094)\n",
       "Verzweigung      Winterthur-Nord  POINT Z (2694852.543 1264108.073 438.363)\n",
       "Verzweigung      Winterthur-Nord  POINT Z (2695091.488 1264580.048 432.101)\n",
       "Verzweigung      Winterthur-Nord  POINT Z (2695409.576 1264572.464 442.853)\n",
       "Ausfahrt     Winterthur-Ohringen  POINT Z (2695995.191 1264426.583 458.974)\n",
       "Ausfahrt     Winterthur-Ohringen  POINT Z (2696459.446 1264408.235 472.927)"
      ]
     },
     "execution_count": 37,
     "metadata": {},
     "output_type": "execute_result"
    }
   ],
   "source": [
    "gdf_3spaltig.head(10)"
   ]
  },
  {
   "cell_type": "code",
   "execution_count": 54,
   "metadata": {},
   "outputs": [
    {
     "data": {
      "text/plain": [
       "(206580, 2)"
      ]
     },
     "execution_count": 54,
     "metadata": {},
     "output_type": "execute_result"
    }
   ],
   "source": [
    "gdf_3spaltig.shape"
   ]
  },
  {
   "cell_type": "code",
   "execution_count": 53,
   "metadata": {},
   "outputs": [],
   "source": [
    "#gdf_3spaltig.loc['Gebaeude']  ## nur ein begriff möglich\n"
   ]
  },
  {
   "cell_type": "code",
   "execution_count": 46,
   "metadata": {},
   "outputs": [
    {
     "data": {
      "text/plain": [
       "(4471, 2)"
      ]
     },
     "execution_count": 46,
     "metadata": {},
     "output_type": "execute_result"
    }
   ],
   "source": [
    "## Objekte, die uns interessieren\n",
    "objekte = ['Gebaeude', 'Offenes Gebaeude', 'Sakrales Gebaeude', 'Kapelle']\n",
    "\n",
    "gdf_heilge = gdf_3spaltig[gdf_3spaltig.index.isin(objekte)]\n",
    "gdf_heilge.shape"
   ]
  },
  {
   "cell_type": "code",
   "execution_count": 47,
   "metadata": {},
   "outputs": [
    {
     "data": {
      "text/html": [
       "<div>\n",
       "<style scoped>\n",
       "    .dataframe tbody tr th:only-of-type {\n",
       "        vertical-align: middle;\n",
       "    }\n",
       "\n",
       "    .dataframe tbody tr th {\n",
       "        vertical-align: top;\n",
       "    }\n",
       "\n",
       "    .dataframe thead th {\n",
       "        text-align: right;\n",
       "    }\n",
       "</style>\n",
       "<table border=\"1\" class=\"dataframe\">\n",
       "  <thead>\n",
       "    <tr style=\"text-align: right;\">\n",
       "      <th></th>\n",
       "      <th>NAME</th>\n",
       "      <th>geometry</th>\n",
       "    </tr>\n",
       "    <tr>\n",
       "      <th>OBJEKTART</th>\n",
       "      <th></th>\n",
       "      <th></th>\n",
       "    </tr>\n",
       "  </thead>\n",
       "  <tbody>\n",
       "    <tr>\n",
       "      <th>Kapelle</th>\n",
       "      <td>St. Karl</td>\n",
       "      <td>POINT Z (2681341.477 1223234.045 424.672)</td>\n",
       "    </tr>\n",
       "    <tr>\n",
       "      <th>Gebaeude</th>\n",
       "      <td>Restaurant St. Meinrad</td>\n",
       "      <td>POINT Z (2701102.928 1225561.940 963.080)</td>\n",
       "    </tr>\n",
       "    <tr>\n",
       "      <th>Gebaeude</th>\n",
       "      <td>Knutwil St. Erhard 300m</td>\n",
       "      <td>POINT Z (2647760.271 1227126.675 566.327)</td>\n",
       "    </tr>\n",
       "    <tr>\n",
       "      <th>Kapelle</th>\n",
       "      <td>St. Benedikt</td>\n",
       "      <td>POINT Z (2700050.226 1220653.760 921.988)</td>\n",
       "    </tr>\n",
       "    <tr>\n",
       "      <th>Kapelle</th>\n",
       "      <td>St. Niklaus</td>\n",
       "      <td>POINT Z (2670666.097 1154915.539 1472.405)</td>\n",
       "    </tr>\n",
       "    <tr>\n",
       "      <th>Kapelle</th>\n",
       "      <td>St. Niklaus</td>\n",
       "      <td>POINT Z (2733900.373 1166113.570 1263.254)</td>\n",
       "    </tr>\n",
       "    <tr>\n",
       "      <th>Sakrales Gebaeude</th>\n",
       "      <td>St. Joseph</td>\n",
       "      <td>POINT Z (2715809.727 1232179.387 441.121)</td>\n",
       "    </tr>\n",
       "    <tr>\n",
       "      <th>Kapelle</th>\n",
       "      <td>St. Wendelinskapelle</td>\n",
       "      <td>POINT Z (2658519.521 1229365.521 725.645)</td>\n",
       "    </tr>\n",
       "    <tr>\n",
       "      <th>Kapelle</th>\n",
       "      <td>St. Johann</td>\n",
       "      <td>POINT Z (2706321.463 1226955.446 501.443)</td>\n",
       "    </tr>\n",
       "    <tr>\n",
       "      <th>Kapelle</th>\n",
       "      <td>St. Adrianskapelle</td>\n",
       "      <td>POINT Z (2682401.664 1215090.902 437.169)</td>\n",
       "    </tr>\n",
       "    <tr>\n",
       "      <th>Kapelle</th>\n",
       "      <td>St. Dionys</td>\n",
       "      <td>POINT Z (2707764.592 1231687.170 421.852)</td>\n",
       "    </tr>\n",
       "    <tr>\n",
       "      <th>Sakrales Gebaeude</th>\n",
       "      <td>St. Ursen-Kathedrale</td>\n",
       "      <td>POINT Z (2607637.111 1228596.008 486.377)</td>\n",
       "    </tr>\n",
       "    <tr>\n",
       "      <th>Gebaeude</th>\n",
       "      <td>St. Margrethen 300m</td>\n",
       "      <td>POINT Z (2765315.768 1257572.024 492.937)</td>\n",
       "    </tr>\n",
       "    <tr>\n",
       "      <th>Sakrales Gebaeude</th>\n",
       "      <td>St. Otmarsberg</td>\n",
       "      <td>POINT Z (2717235.180 1232021.953 472.831)</td>\n",
       "    </tr>\n",
       "    <tr>\n",
       "      <th>Kapelle</th>\n",
       "      <td>St. Joseph</td>\n",
       "      <td>POINT Z (2638301.837 1107512.068 1685.938)</td>\n",
       "    </tr>\n",
       "    <tr>\n",
       "      <th>Kapelle</th>\n",
       "      <td>St. Joseph</td>\n",
       "      <td>POINT Z (2638518.226 1109632.016 1774.177)</td>\n",
       "    </tr>\n",
       "    <tr>\n",
       "      <th>Kapelle</th>\n",
       "      <td>St. Joseph</td>\n",
       "      <td>POINT Z (2585388.885 1177768.821 924.187)</td>\n",
       "    </tr>\n",
       "    <tr>\n",
       "      <th>Kapelle</th>\n",
       "      <td>St. Joseph</td>\n",
       "      <td>POINT Z (2641680.508 1200812.537 970.446)</td>\n",
       "    </tr>\n",
       "    <tr>\n",
       "      <th>Gebaeude</th>\n",
       "      <td>St. Jakobshalle</td>\n",
       "      <td>POINT Z (2613571.419 1265463.581 274.074)</td>\n",
       "    </tr>\n",
       "    <tr>\n",
       "      <th>Kapelle</th>\n",
       "      <td>St. Loi</td>\n",
       "      <td>POINT Z (2643995.814 1195034.874 865.190)</td>\n",
       "    </tr>\n",
       "    <tr>\n",
       "      <th>Sakrales Gebaeude</th>\n",
       "      <td>St. Blasius</td>\n",
       "      <td>POINT Z (2642436.377 1221367.035 554.179)</td>\n",
       "    </tr>\n",
       "    <tr>\n",
       "      <th>Kapelle</th>\n",
       "      <td>St. Georg</td>\n",
       "      <td>POINT Z (2682222.808 1212689.268 430.517)</td>\n",
       "    </tr>\n",
       "    <tr>\n",
       "      <th>Offenes Gebaeude</th>\n",
       "      <td>St. Joseph</td>\n",
       "      <td>POINT Z (2641665.357 1200813.585 968.483)</td>\n",
       "    </tr>\n",
       "    <tr>\n",
       "      <th>Kapelle</th>\n",
       "      <td>St. Matthä</td>\n",
       "      <td>POINT Z (2717873.291 1234865.842 693.490)</td>\n",
       "    </tr>\n",
       "    <tr>\n",
       "      <th>Gebaeude</th>\n",
       "      <td>Alpwirtschaft St. Jost</td>\n",
       "      <td>POINT Z (2693008.291 1221016.729 1155.998)</td>\n",
       "    </tr>\n",
       "    <tr>\n",
       "      <th>Kapelle</th>\n",
       "      <td>St. Jakob</td>\n",
       "      <td>POINT Z (2744136.447 1240206.221 1454.268)</td>\n",
       "    </tr>\n",
       "    <tr>\n",
       "      <th>Kapelle</th>\n",
       "      <td>St. Jakob</td>\n",
       "      <td>POINT Z (2743333.110 1218272.553 577.082)</td>\n",
       "    </tr>\n",
       "    <tr>\n",
       "      <th>Sakrales Gebaeude</th>\n",
       "      <td>St. Sebastian</td>\n",
       "      <td>POINT Z (2721900.725 1223446.098 433.515)</td>\n",
       "    </tr>\n",
       "    <tr>\n",
       "      <th>Gebaeude</th>\n",
       "      <td>Gasthaus St. Iddaburg</td>\n",
       "      <td>POINT Z (2716300.382 1249759.181 969.871)</td>\n",
       "    </tr>\n",
       "    <tr>\n",
       "      <th>Gebaeude</th>\n",
       "      <td>St. Antoni 300m</td>\n",
       "      <td>POINT Z (2586611.983 1186058.364 713.087)</td>\n",
       "    </tr>\n",
       "    <tr>\n",
       "      <th>...</th>\n",
       "      <td>...</td>\n",
       "      <td>...</td>\n",
       "    </tr>\n",
       "    <tr>\n",
       "      <th>Gebaeude</th>\n",
       "      <td>Alphütte St. Antoni Brecca</td>\n",
       "      <td>POINT Z (2587167.924 1165894.564 1403.413)</td>\n",
       "    </tr>\n",
       "    <tr>\n",
       "      <th>Kapelle</th>\n",
       "      <td>St. Maria zum Trost</td>\n",
       "      <td>POINT Z (2757737.995 1225966.967 540.211)</td>\n",
       "    </tr>\n",
       "    <tr>\n",
       "      <th>Kapelle</th>\n",
       "      <td>St. Antoni</td>\n",
       "      <td>POINT Z (2586223.578 1185952.105 703.268)</td>\n",
       "    </tr>\n",
       "    <tr>\n",
       "      <th>Kapelle</th>\n",
       "      <td>St. Antoni</td>\n",
       "      <td>POINT Z (2680655.883 1206781.089 810.767)</td>\n",
       "    </tr>\n",
       "    <tr>\n",
       "      <th>Kapelle</th>\n",
       "      <td>St. Antoni</td>\n",
       "      <td>POINT Z (2638058.915 1109778.951 1568.399)</td>\n",
       "    </tr>\n",
       "    <tr>\n",
       "      <th>Gebaeude</th>\n",
       "      <td>Restaurant St. Anton</td>\n",
       "      <td>POINT Z (2758511.835 1253229.566 1103.582)</td>\n",
       "    </tr>\n",
       "    <tr>\n",
       "      <th>Kapelle</th>\n",
       "      <td>St. Anna</td>\n",
       "      <td>POINT Z (2654850.349 1140961.250 1356.108)</td>\n",
       "    </tr>\n",
       "    <tr>\n",
       "      <th>Kapelle</th>\n",
       "      <td>St. Anna</td>\n",
       "      <td>POINT Z (2637050.571 1195692.291 1060.950)</td>\n",
       "    </tr>\n",
       "    <tr>\n",
       "      <th>Kapelle</th>\n",
       "      <td>St. Anna</td>\n",
       "      <td>POINT Z (2762264.670 1244968.083 458.679)</td>\n",
       "    </tr>\n",
       "    <tr>\n",
       "      <th>Kapelle</th>\n",
       "      <td>St. Anna</td>\n",
       "      <td>POINT Z (2628923.898 1128958.055 747.436)</td>\n",
       "    </tr>\n",
       "    <tr>\n",
       "      <th>Kapelle</th>\n",
       "      <td>St. Anna</td>\n",
       "      <td>POINT Z (2692160.163 1229626.071 633.333)</td>\n",
       "    </tr>\n",
       "    <tr>\n",
       "      <th>Gebaeude</th>\n",
       "      <td>St. Gallenkappel Cholloch-Ricken 300m</td>\n",
       "      <td>POINT Z (2720944.571 1237268.313 862.481)</td>\n",
       "    </tr>\n",
       "    <tr>\n",
       "      <th>Kapelle</th>\n",
       "      <td>St. Luzikapelle</td>\n",
       "      <td>POINT Z (2760537.802 1190511.051 852.871)</td>\n",
       "    </tr>\n",
       "    <tr>\n",
       "      <th>Kapelle</th>\n",
       "      <td>St. Wendel</td>\n",
       "      <td>POINT Z (2704014.863 1221068.102 948.628)</td>\n",
       "    </tr>\n",
       "    <tr>\n",
       "      <th>Kapelle</th>\n",
       "      <td>St. Wendel</td>\n",
       "      <td>POINT Z (2660561.368 1233740.400 469.474)</td>\n",
       "    </tr>\n",
       "    <tr>\n",
       "      <th>Gebaeude</th>\n",
       "      <td>St. Niklaus Sälli 300m</td>\n",
       "      <td>POINT Z (2629023.533 1115579.315 1112.264)</td>\n",
       "    </tr>\n",
       "    <tr>\n",
       "      <th>Offenes Gebaeude</th>\n",
       "      <td>St. Gallen Breitfeld 300/50/25m</td>\n",
       "      <td>POINT Z (2740307.896 1252712.383 651.012)</td>\n",
       "    </tr>\n",
       "    <tr>\n",
       "      <th>Offenes Gebaeude</th>\n",
       "      <td>St. Anna</td>\n",
       "      <td>POINT Z (2762257.846 1244965.754 456.404)</td>\n",
       "    </tr>\n",
       "    <tr>\n",
       "      <th>Sakrales Gebaeude</th>\n",
       "      <td>St. Leonhard</td>\n",
       "      <td>POINT Z (2756179.987 1208995.595 498.851)</td>\n",
       "    </tr>\n",
       "    <tr>\n",
       "      <th>Kapelle</th>\n",
       "      <td>St. Jost</td>\n",
       "      <td>POINT Z (2675544.021 1205565.848 704.508)</td>\n",
       "    </tr>\n",
       "    <tr>\n",
       "      <th>Kapelle</th>\n",
       "      <td>St. Jost</td>\n",
       "      <td>POINT Z (2692997.529 1221019.093 1156.232)</td>\n",
       "    </tr>\n",
       "    <tr>\n",
       "      <th>Kapelle</th>\n",
       "      <td>St. Joder</td>\n",
       "      <td>POINT Z (2672764.152 1192279.980 882.595)</td>\n",
       "    </tr>\n",
       "    <tr>\n",
       "      <th>Kapelle</th>\n",
       "      <td>St. Joder</td>\n",
       "      <td>POINT Z (2640589.124 1211152.346 952.854)</td>\n",
       "    </tr>\n",
       "    <tr>\n",
       "      <th>Kapelle</th>\n",
       "      <td>St. Gangulf</td>\n",
       "      <td>POINT Z (2699690.676 1220884.612 915.711)</td>\n",
       "    </tr>\n",
       "    <tr>\n",
       "      <th>Gebaeude</th>\n",
       "      <td>St. Margrethen 50m</td>\n",
       "      <td>POINT Z (2765585.573 1257604.092 421.290)</td>\n",
       "    </tr>\n",
       "    <tr>\n",
       "      <th>Sakrales Gebaeude</th>\n",
       "      <td>St. Valentin</td>\n",
       "      <td>POINT Z (2758845.924 1239460.267 459.527)</td>\n",
       "    </tr>\n",
       "    <tr>\n",
       "      <th>Gebaeude</th>\n",
       "      <td>Restaurant St. Petersinsel</td>\n",
       "      <td>POINT Z (2577514.872 1213248.917 442.536)</td>\n",
       "    </tr>\n",
       "    <tr>\n",
       "      <th>Gebaeude</th>\n",
       "      <td>Leichtathletikstadion St. Jakob</td>\n",
       "      <td>POINT Z (2613403.197 1265146.685 265.945)</td>\n",
       "    </tr>\n",
       "    <tr>\n",
       "      <th>Kapelle</th>\n",
       "      <td>St. Franziskus</td>\n",
       "      <td>POINT Z (2689756.486 1203331.431 698.228)</td>\n",
       "    </tr>\n",
       "    <tr>\n",
       "      <th>Gebaeude</th>\n",
       "      <td>Naturfreundehaus St. Anton</td>\n",
       "      <td>POINT Z (2759379.844 1253482.664 1035.090)</td>\n",
       "    </tr>\n",
       "  </tbody>\n",
       "</table>\n",
       "<p>95 rows × 2 columns</p>\n",
       "</div>"
      ],
      "text/plain": [
       "                                                    NAME  \\\n",
       "OBJEKTART                                                  \n",
       "Kapelle                                         St. Karl   \n",
       "Gebaeude                          Restaurant St. Meinrad   \n",
       "Gebaeude                         Knutwil St. Erhard 300m   \n",
       "Kapelle                                     St. Benedikt   \n",
       "Kapelle                                      St. Niklaus   \n",
       "Kapelle                                      St. Niklaus   \n",
       "Sakrales Gebaeude                             St. Joseph   \n",
       "Kapelle                             St. Wendelinskapelle   \n",
       "Kapelle                                       St. Johann   \n",
       "Kapelle                               St. Adrianskapelle   \n",
       "Kapelle                                       St. Dionys   \n",
       "Sakrales Gebaeude                   St. Ursen-Kathedrale   \n",
       "Gebaeude                             St. Margrethen 300m   \n",
       "Sakrales Gebaeude                         St. Otmarsberg   \n",
       "Kapelle                                       St. Joseph   \n",
       "Kapelle                                       St. Joseph   \n",
       "Kapelle                                       St. Joseph   \n",
       "Kapelle                                       St. Joseph   \n",
       "Gebaeude                                 St. Jakobshalle   \n",
       "Kapelle                                          St. Loi   \n",
       "Sakrales Gebaeude                            St. Blasius   \n",
       "Kapelle                                        St. Georg   \n",
       "Offenes Gebaeude                              St. Joseph   \n",
       "Kapelle                                       St. Matthä   \n",
       "Gebaeude                          Alpwirtschaft St. Jost   \n",
       "Kapelle                                        St. Jakob   \n",
       "Kapelle                                        St. Jakob   \n",
       "Sakrales Gebaeude                          St. Sebastian   \n",
       "Gebaeude                           Gasthaus St. Iddaburg   \n",
       "Gebaeude                                 St. Antoni 300m   \n",
       "...                                                  ...   \n",
       "Gebaeude                      Alphütte St. Antoni Brecca   \n",
       "Kapelle                              St. Maria zum Trost   \n",
       "Kapelle                                       St. Antoni   \n",
       "Kapelle                                       St. Antoni   \n",
       "Kapelle                                       St. Antoni   \n",
       "Gebaeude                            Restaurant St. Anton   \n",
       "Kapelle                                         St. Anna   \n",
       "Kapelle                                         St. Anna   \n",
       "Kapelle                                         St. Anna   \n",
       "Kapelle                                         St. Anna   \n",
       "Kapelle                                         St. Anna   \n",
       "Gebaeude           St. Gallenkappel Cholloch-Ricken 300m   \n",
       "Kapelle                                  St. Luzikapelle   \n",
       "Kapelle                                       St. Wendel   \n",
       "Kapelle                                       St. Wendel   \n",
       "Gebaeude                          St. Niklaus Sälli 300m   \n",
       "Offenes Gebaeude         St. Gallen Breitfeld 300/50/25m   \n",
       "Offenes Gebaeude                                St. Anna   \n",
       "Sakrales Gebaeude                           St. Leonhard   \n",
       "Kapelle                                         St. Jost   \n",
       "Kapelle                                         St. Jost   \n",
       "Kapelle                                        St. Joder   \n",
       "Kapelle                                        St. Joder   \n",
       "Kapelle                                      St. Gangulf   \n",
       "Gebaeude                              St. Margrethen 50m   \n",
       "Sakrales Gebaeude                           St. Valentin   \n",
       "Gebaeude                      Restaurant St. Petersinsel   \n",
       "Gebaeude                 Leichtathletikstadion St. Jakob   \n",
       "Kapelle                                   St. Franziskus   \n",
       "Gebaeude                      Naturfreundehaus St. Anton   \n",
       "\n",
       "                                                     geometry  \n",
       "OBJEKTART                                                      \n",
       "Kapelle             POINT Z (2681341.477 1223234.045 424.672)  \n",
       "Gebaeude            POINT Z (2701102.928 1225561.940 963.080)  \n",
       "Gebaeude            POINT Z (2647760.271 1227126.675 566.327)  \n",
       "Kapelle             POINT Z (2700050.226 1220653.760 921.988)  \n",
       "Kapelle            POINT Z (2670666.097 1154915.539 1472.405)  \n",
       "Kapelle            POINT Z (2733900.373 1166113.570 1263.254)  \n",
       "Sakrales Gebaeude   POINT Z (2715809.727 1232179.387 441.121)  \n",
       "Kapelle             POINT Z (2658519.521 1229365.521 725.645)  \n",
       "Kapelle             POINT Z (2706321.463 1226955.446 501.443)  \n",
       "Kapelle             POINT Z (2682401.664 1215090.902 437.169)  \n",
       "Kapelle             POINT Z (2707764.592 1231687.170 421.852)  \n",
       "Sakrales Gebaeude   POINT Z (2607637.111 1228596.008 486.377)  \n",
       "Gebaeude            POINT Z (2765315.768 1257572.024 492.937)  \n",
       "Sakrales Gebaeude   POINT Z (2717235.180 1232021.953 472.831)  \n",
       "Kapelle            POINT Z (2638301.837 1107512.068 1685.938)  \n",
       "Kapelle            POINT Z (2638518.226 1109632.016 1774.177)  \n",
       "Kapelle             POINT Z (2585388.885 1177768.821 924.187)  \n",
       "Kapelle             POINT Z (2641680.508 1200812.537 970.446)  \n",
       "Gebaeude            POINT Z (2613571.419 1265463.581 274.074)  \n",
       "Kapelle             POINT Z (2643995.814 1195034.874 865.190)  \n",
       "Sakrales Gebaeude   POINT Z (2642436.377 1221367.035 554.179)  \n",
       "Kapelle             POINT Z (2682222.808 1212689.268 430.517)  \n",
       "Offenes Gebaeude    POINT Z (2641665.357 1200813.585 968.483)  \n",
       "Kapelle             POINT Z (2717873.291 1234865.842 693.490)  \n",
       "Gebaeude           POINT Z (2693008.291 1221016.729 1155.998)  \n",
       "Kapelle            POINT Z (2744136.447 1240206.221 1454.268)  \n",
       "Kapelle             POINT Z (2743333.110 1218272.553 577.082)  \n",
       "Sakrales Gebaeude   POINT Z (2721900.725 1223446.098 433.515)  \n",
       "Gebaeude            POINT Z (2716300.382 1249759.181 969.871)  \n",
       "Gebaeude            POINT Z (2586611.983 1186058.364 713.087)  \n",
       "...                                                       ...  \n",
       "Gebaeude           POINT Z (2587167.924 1165894.564 1403.413)  \n",
       "Kapelle             POINT Z (2757737.995 1225966.967 540.211)  \n",
       "Kapelle             POINT Z (2586223.578 1185952.105 703.268)  \n",
       "Kapelle             POINT Z (2680655.883 1206781.089 810.767)  \n",
       "Kapelle            POINT Z (2638058.915 1109778.951 1568.399)  \n",
       "Gebaeude           POINT Z (2758511.835 1253229.566 1103.582)  \n",
       "Kapelle            POINT Z (2654850.349 1140961.250 1356.108)  \n",
       "Kapelle            POINT Z (2637050.571 1195692.291 1060.950)  \n",
       "Kapelle             POINT Z (2762264.670 1244968.083 458.679)  \n",
       "Kapelle             POINT Z (2628923.898 1128958.055 747.436)  \n",
       "Kapelle             POINT Z (2692160.163 1229626.071 633.333)  \n",
       "Gebaeude            POINT Z (2720944.571 1237268.313 862.481)  \n",
       "Kapelle             POINT Z (2760537.802 1190511.051 852.871)  \n",
       "Kapelle             POINT Z (2704014.863 1221068.102 948.628)  \n",
       "Kapelle             POINT Z (2660561.368 1233740.400 469.474)  \n",
       "Gebaeude           POINT Z (2629023.533 1115579.315 1112.264)  \n",
       "Offenes Gebaeude    POINT Z (2740307.896 1252712.383 651.012)  \n",
       "Offenes Gebaeude    POINT Z (2762257.846 1244965.754 456.404)  \n",
       "Sakrales Gebaeude   POINT Z (2756179.987 1208995.595 498.851)  \n",
       "Kapelle             POINT Z (2675544.021 1205565.848 704.508)  \n",
       "Kapelle            POINT Z (2692997.529 1221019.093 1156.232)  \n",
       "Kapelle             POINT Z (2672764.152 1192279.980 882.595)  \n",
       "Kapelle             POINT Z (2640589.124 1211152.346 952.854)  \n",
       "Kapelle             POINT Z (2699690.676 1220884.612 915.711)  \n",
       "Gebaeude            POINT Z (2765585.573 1257604.092 421.290)  \n",
       "Sakrales Gebaeude   POINT Z (2758845.924 1239460.267 459.527)  \n",
       "Gebaeude            POINT Z (2577514.872 1213248.917 442.536)  \n",
       "Gebaeude            POINT Z (2613403.197 1265146.685 265.945)  \n",
       "Kapelle             POINT Z (2689756.486 1203331.431 698.228)  \n",
       "Gebaeude           POINT Z (2759379.844 1253482.664 1035.090)  \n",
       "\n",
       "[95 rows x 2 columns]"
      ]
     },
     "execution_count": 47,
     "metadata": {},
     "output_type": "execute_result"
    }
   ],
   "source": [
    "gdf_heilge[gdf_heilge['NAME'].str.contains(\"St. \")]"
   ]
  },
  {
   "cell_type": "code",
   "execution_count": null,
   "metadata": {},
   "outputs": [],
   "source": [
    "## In Spalte suchen\n",
    "\n",
    "# str.find()"
   ]
  },
  {
   "cell_type": "code",
   "execution_count": null,
   "metadata": {},
   "outputs": [],
   "source": []
  },
  {
   "cell_type": "code",
   "execution_count": null,
   "metadata": {},
   "outputs": [],
   "source": []
  },
  {
   "cell_type": "markdown",
   "metadata": {},
   "source": [
    "# Plotting"
   ]
  },
  {
   "cell_type": "code",
   "execution_count": 48,
   "metadata": {},
   "outputs": [],
   "source": [
    "gdf_kantone = gpd.read_file('Projections/shp/g1k17.shp')"
   ]
  },
  {
   "cell_type": "code",
   "execution_count": 52,
   "metadata": {
    "scrolled": true
   },
   "outputs": [],
   "source": [
    "#gdf_kantone['KTNAME'].unique()"
   ]
  },
  {
   "cell_type": "code",
   "execution_count": 50,
   "metadata": {},
   "outputs": [
    {
     "name": "stderr",
     "output_type": "stream",
     "text": [
      "/home/pc/anaconda3/lib/python3.7/site-packages/pyproj/crs.py:77: FutureWarning: '+init=<authority>:<code>' syntax is deprecated. '<authority>:<code>' is the preferred initialization method.\n",
      "  return _prepare_from_string(\" \".join(pjargs))\n"
     ]
    }
   ],
   "source": [
    "gdf_heilge = gdf_heilge.to_crs({'init': 'epsg:21781'})"
   ]
  },
  {
   "cell_type": "code",
   "execution_count": 51,
   "metadata": {},
   "outputs": [
    {
     "data": {
      "text/plain": [
       "<matplotlib.axes._subplots.AxesSubplot at 0x7f0d0d10c898>"
      ]
     },
     "execution_count": 51,
     "metadata": {},
     "output_type": "execute_result"
    },
    {
     "data": {
      "image/png": "[encoded data removed]",
      "text/plain": [
       "<Figure size 1440x1080 with 1 Axes>"
      ]
     },
     "metadata": {
      "needs_background": "light"
     },
     "output_type": "display_data"
    }
   ],
   "source": [
    "ax = gdf_kantone.plot(figsize=(20,15), color='lightgrey', edgecolor='white')\n",
    "gdf_heilge.plot(markersize=3, ax=ax)"
   ]
  },
  {
   "cell_type": "code",
   "execution_count": null,
   "metadata": {},
   "outputs": [],
   "source": []
  },
  {
   "cell_type": "code",
   "execution_count": null,
   "metadata": {},
   "outputs": [],
   "source": []
  },
  {
   "cell_type": "code",
   "execution_count": null,
   "metadata": {},
   "outputs": [],
   "source": []
  },
  {
   "cell_type": "code",
   "execution_count": null,
   "metadata": {},
   "outputs": [],
   "source": []
  },
  {
   "cell_type": "code",
   "execution_count": null,
   "metadata": {},
   "outputs": [],
   "source": []
  },
  {
   "cell_type": "code",
   "execution_count": null,
   "metadata": {},
   "outputs": [],
   "source": []
  },
  {
   "cell_type": "code",
   "execution_count": null,
   "metadata": {},
   "outputs": [],
   "source": []
  },
  {
   "cell_type": "code",
   "execution_count": null,
   "metadata": {},
   "outputs": [],
   "source": [
    "gdf_spaltenliste[gdf_spaltenliste['NAME'].str.contains(\"St. \")]"
   ]
  },
  {
   "cell_type": "code",
   "execution_count": null,
   "metadata": {},
   "outputs": [],
   "source": []
  },
  {
   "cell_type": "code",
   "execution_count": null,
   "metadata": {},
   "outputs": [],
   "source": []
  },
  {
   "cell_type": "code",
   "execution_count": null,
   "metadata": {},
   "outputs": [],
   "source": []
  },
  {
   "cell_type": "code",
   "execution_count": null,
   "metadata": {},
   "outputs": [],
   "source": [
    "# Spalte \"time\" als Index setzen\n",
    "df.set_index('time', inplace=True)"
   ]
  },
  {
   "cell_type": "code",
   "execution_count": null,
   "metadata": {},
   "outputs": [],
   "source": []
  },
  {
   "cell_type": "code",
   "execution_count": null,
   "metadata": {},
   "outputs": [],
   "source": [
    "gdf_spaltenliste-loc[]\n",
    "\n"
   ]
  },
  {
   "cell_type": "code",
   "execution_count": null,
   "metadata": {},
   "outputs": [],
   "source": [
    "df_m.loc[1909:1918]"
   ]
  },
  {
   "cell_type": "code",
   "execution_count": null,
   "metadata": {},
   "outputs": [],
   "source": []
  },
  {
   "cell_type": "markdown",
   "metadata": {},
   "source": [
    "erstezeile2 = df.loc['2014-10-13'][['ROCHE','NOVARTIS']]\n",
    "\n",
    "df.sort_values('Approved Amount', ascending=False).head(50)['University'].value_counts()\n",
    "\n",
    "df.groupby('Funding Instrument Hierarchy')['Approved Amount'].sum()\n",
    "\n",
    "\n",
    "\n"
   ]
  },
  {
   "cell_type": "code",
   "execution_count": null,
   "metadata": {},
   "outputs": [],
   "source": []
  },
  {
   "cell_type": "code",
   "execution_count": null,
   "metadata": {},
   "outputs": [],
   "source": []
  },
  {
   "cell_type": "code",
   "execution_count": null,
   "metadata": {},
   "outputs": [],
   "source": []
  },
  {
   "cell_type": "code",
   "execution_count": null,
   "metadata": {},
   "outputs": [],
   "source": [
    "## Daten abspeichern\n",
    "xxxx.to_csv(path, index=False)\n"
   ]
  },
  {
   "cell_type": "code",
   "execution_count": null,
   "metadata": {},
   "outputs": [],
   "source": []
  },
  {
   "cell_type": "code",
   "execution_count": null,
   "metadata": {},
   "outputs": [],
   "source": []
  },
  {
   "cell_type": "code",
   "execution_count": null,
   "metadata": {},
   "outputs": [],
   "source": []
  },
  {
   "cell_type": "code",
   "execution_count": null,
   "metadata": {},
   "outputs": [],
   "source": []
  },
  {
   "cell_type": "code",
   "execution_count": null,
   "metadata": {},
   "outputs": [],
   "source": []
  },
  {
   "cell_type": "code",
   "execution_count": null,
   "metadata": {},
   "outputs": [],
   "source": []
  },
  {
   "cell_type": "code",
   "execution_count": null,
   "metadata": {},
   "outputs": [],
   "source": []
  },
  {
   "cell_type": "code",
   "execution_count": null,
   "metadata": {},
   "outputs": [],
   "source": []
  }
 ],
 "metadata": {
  "kernelspec": {
   "display_name": "Python 3",
   "language": "python",
   "name": "python3"
  },
  "language_info": {
   "codemirror_mode": {
    "name": "ipython",
    "version": 3
   },
   "file_extension": ".py",
   "mimetype": "text/x-python",
   "name": "python",
   "nbconvert_exporter": "python",
   "pygments_lexer": "ipython3",
   "version": "3.7.3"
  }
 },
 "nbformat": 4,
 "nbformat_minor": 2
}
