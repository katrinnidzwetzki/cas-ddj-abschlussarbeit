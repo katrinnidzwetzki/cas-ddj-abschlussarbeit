{
 "cells": [
  {
   "cell_type": "markdown",
   "metadata": {},
   "source": [
    "# Notiz\n",
    "Die Website scheint seit meinen ersten Versuchen im Januar 2020 verändert worden zu sein. Der \"Klickroboter\" steuert inzwischen einen anderen ersten Eintrag im Kt. ZH an.\n",
    "\n"
   ]
  },
  {
   "cell_type": "code",
   "execution_count": 1,
   "metadata": {},
   "outputs": [],
   "source": [
    "from selenium import webdriver\n",
    "from selenium.webdriver.common.keys import Keys\n",
    "from selenium.webdriver.common.by import By\n",
    "from selenium.webdriver.support.ui import Select\n",
    "import time\n",
    "import pandas as pd\n",
    "from bs4 import BeautifulSoup\n",
    "import random\n",
    "import os\n",
    "#### import jquery funktioniert nicht"
   ]
  },
  {
   "cell_type": "code",
   "execution_count": 4,
   "metadata": {},
   "outputs": [],
   "source": [
    "##  !mkdir 'ortsnamentest'      # ORDNER FUER DATEN "
   ]
  },
  {
   "cell_type": "code",
   "execution_count": 2,
   "metadata": {},
   "outputs": [],
   "source": [
    "driver = webdriver.Chrome(executable_path='/usr/bin/chromedriver')\n",
    "\n",
    "driver.get('https://search.ortsnamen.ch/de/')\n",
    "time.sleep(2)\n"
   ]
  },
  {
   "cell_type": "code",
   "execution_count": 3,
   "metadata": {},
   "outputs": [],
   "source": [
    "# Ersten Eitrag ansteuern und htm-seite ablegen \n",
    "\n",
    "search = driver.find_element_by_name('query')\n",
    "time.sleep(2)\n",
    "search.send_keys('kanton:zh')\n",
    "time.sleep(2)\n",
    "\n",
    "driver.find_element_by_css_selector(\"button[type=\\\"submit\\\"]\").click()\n",
    "time.sleep(5)\n",
    "\n",
    "driver.find_element_by_class_name(\"search_entry_name\").click()\n",
    "time.sleep(2)\n",
    "\n",
    "##### Schritt nicht nötig, die gesichterte Seite ist die gleiche\n",
    "# driver.find_element_by_id(\"data\").click()\n",
    "# time.sleep(2)\n",
    "\n",
    "eintrag = driver.page_source.encode('utf-8')\n",
    "with open(\"eintrag.htm\", \"wb+\") as file:\n",
    "    file.write(eintrag)   ##('\\ortsnamentest') funktioniert nicht\n",
    "    file.close()\n",
    "\n",
    "\n",
    "\n"
   ]
  },
  {
   "cell_type": "code",
   "execution_count": null,
   "metadata": {},
   "outputs": [],
   "source": []
  },
  {
   "cell_type": "markdown",
   "metadata": {},
   "source": [
    "# -----------------------------------------"
   ]
  },
  {
   "cell_type": "code",
   "execution_count": null,
   "metadata": {},
   "outputs": [],
   "source": [
    "#('div.MenuItemSelected').nextAll('search_entry_name')"
   ]
  },
  {
   "cell_type": "code",
   "execution_count": null,
   "metadata": {},
   "outputs": [],
   "source": [
    "#(obj).parents('table').find('.class')"
   ]
  },
  {
   "cell_type": "code",
   "execution_count": null,
   "metadata": {},
   "outputs": [],
   "source": [
    "### notiz aus stackoverflow für anderen ordner\n",
    "path = '/Some/path/to/Pics2'\n",
    "filename = 'forcing{0}damping{1}omega{2}set2.png'.format(forcing, damping, omega)\n",
    "filename = os.path.join(path, filename)\n",
    "fig.savefig(filename)\n"
   ]
  },
  {
   "cell_type": "code",
   "execution_count": null,
   "metadata": {},
   "outputs": [],
   "source": [
    "## funktioniert nicht\n",
    "driver.find_element_by_xpath(\"//p[@class_name='search_entry_name']/following-sibling::p\").click\n",
    "time.sleep(2)"
   ]
  },
  {
   "cell_type": "code",
   "execution_count": null,
   "metadata": {},
   "outputs": [],
   "source": [
    "##### nächste seite ansteuern\n",
    "##driver.find_elements_by_class(\"next_page\")[0].click() "
   ]
  },
  {
   "cell_type": "code",
   "execution_count": null,
   "metadata": {},
   "outputs": [],
   "source": [
    "### weitere eintraege auslesen, unfertig\n",
    "\n",
    "h.find_all('tr', {'class':'ng-scope'})"
   ]
  },
  {
   "cell_type": "code",
   "execution_count": null,
   "metadata": {},
   "outputs": [],
   "source": []
  },
  {
   "cell_type": "code",
   "execution_count": null,
   "metadata": {},
   "outputs": [],
   "source": []
  },
  {
   "cell_type": "code",
   "execution_count": null,
   "metadata": {},
   "outputs": [],
   "source": []
  }
 ],
 "metadata": {
  "kernelspec": {
   "display_name": "Python 3",
   "language": "python",
   "name": "python3"
  },
  "language_info": {
   "codemirror_mode": {
    "name": "ipython",
    "version": 3
   },
   "file_extension": ".py",
   "mimetype": "text/x-python",
   "name": "python",
   "nbconvert_exporter": "python",
   "pygments_lexer": "ipython3",
   "version": "3.7.3"
  }
 },
 "nbformat": 4,
 "nbformat_minor": 2
}
